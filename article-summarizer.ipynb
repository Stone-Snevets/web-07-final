{
 "cells": [
  {
   "cell_type": "markdown",
   "metadata": {},
   "source": [
    "# Web Mining and Applied NLP (44-620)\n",
    "\n",
    "## Final Project: Article Summarizer\n",
    "\n",
    "### Student Name: Solomon Stevens\n",
    "### [GitHub Repository](https://github.com/Stone-Snevets/web-07-final)\n",
    "\n",
    "Perform the tasks described in the Markdown cells below.  When you have completed the assignment make sure your code cells have all been run (and have output beneath them) and ensure you have committed and pushed ALL of your changes to your assignment repository.\n",
    "\n",
    "You should bring in code from previous assignments to help you answer the questions below.\n",
    "\n",
    "Every question that requires you to write code will have a code cell underneath it; you may either write your entire solution in that cell or write it in a python file (`.py`), then import and run the appropriate code to answer the question."
   ]
  },
  {
   "cell_type": "markdown",
   "metadata": {},
   "source": [
    "### Question 1\n",
    "Find on the internet [an article](https://techinspection.net/pros-and-cons-of-self-driving-cars/#:~:text=Self-driving%20cars%20could%20provide%20major%20benefits%20like%20increased,to%20jobs%2C%20liability%20laws%2C%20cybersecurity%2C%20costs%2C%20and%20more.) or blog post about a topic that interests you and you are able to get the text for using the technologies we have applied in the course.  Get the html for the article and store it in a file (which you must submit with your project)"
   ]
  },
  {
   "cell_type": "code",
   "execution_count": 25,
   "metadata": {},
   "outputs": [],
   "source": [
    "# Article about the pros and cons of self-driving cars\n",
    "\n",
    "# Imports\n",
    "from bs4 import BeautifulSoup\n",
    "from collections import Counter\n",
    "from spacytextblob.spacytextblob import SpacyTextBlob\n",
    "import matplotlib.pyplot as plt\n",
    "import pickle, requests, spacy"
   ]
  },
  {
   "cell_type": "code",
   "execution_count": 4,
   "metadata": {},
   "outputs": [],
   "source": [
    "# Request the article\n",
    "online_article = requests.get('https://techinspection.net/pros-and-cons-of-self-driving-cars/#:~:text=Self-driving%20cars%20could%20provide%20major%20benefits%20like%20increased,to%20jobs%2C%20liability%20laws%2C%20cybersecurity%2C%20costs%2C%20and%20more')\n",
    "\n",
    "# Store the article's html text in a pickle file\n",
    "with open('self-driving-cars_pros-cons.pkl', 'wb') as file:\n",
    "    pickle.dump(online_article.text, file)"
   ]
  },
  {
   "cell_type": "markdown",
   "metadata": {},
   "source": [
    "### Question 2\n",
    "Read in your article's html source from the file you created in question 1 and do sentiment analysis on the article/post's text (use `.get_text()`).  Print the polarity score with an appropriate label.  Additionally print the number of sentences in the original article (with an appropriate label)"
   ]
  },
  {
   "cell_type": "code",
   "execution_count": 17,
   "metadata": {},
   "outputs": [
    {
     "name": "stdout",
     "output_type": "stream",
     "text": [
      "Polarity Score: \t 0.16\n",
      "Number of Sentences: \t 60\n"
     ]
    }
   ],
   "source": [
    "# Read in article's html source from file\n",
    "#-> Open the file for reading\n",
    "with open('self-driving-cars_pros-cons.pkl', 'rb') as file:\n",
    "    html_article = pickle.load(file)\n",
    "\n",
    "#-> Parse for the html\n",
    "soup = BeautifulSoup(html_article, 'html.parser')\n",
    "\n",
    "# Do sentiment analysis\n",
    "#-> Load a spaCy core\n",
    "nlp = spacy.load('en_core_web_sm')\n",
    "\n",
    "#-> Create a pipeline of spacytextblob\n",
    "nlp.add_pipe('spacytextblob')\n",
    "\n",
    "#-> Create an NLP document\n",
    "doc = nlp(soup.get_text())\n",
    "\n",
    "# Print the polarity score of the article\n",
    "print(f'Polarity Score: \\t {doc._.blob.polarity:.2f}')\n",
    "\n",
    "# Print the number of sentences in the article\n",
    "print(f'Number of Sentences: \\t {len(list(doc.sents))}')"
   ]
  },
  {
   "cell_type": "markdown",
   "metadata": {},
   "source": [
    "### Question 3\n",
    "Load the article text into a trained `spaCy` pipeline, and determine the 5 most frequent tokens (converted to lower case).  Print the common tokens with an appropriate label.  Additionally, print the tokens their frequencies (with appropriate labels)"
   ]
  },
  {
   "cell_type": "code",
   "execution_count": 19,
   "metadata": {},
   "outputs": [],
   "source": [
    "# Function to test if token is 'interesting'\n",
    "#-> things not like 'a', 'the', ',', etc.\n",
    "def is_token_interesting(token):\n",
    "    return not(token.is_space or token.is_punct or token.is_stop)"
   ]
  },
  {
   "cell_type": "code",
   "execution_count": 23,
   "metadata": {},
   "outputs": [
    {
     "name": "stdout",
     "output_type": "stream",
     "text": [
      "[('driving', 36), ('cars', 29), ('self', 25), ('autonomous', 13), ('vehicles', 9)]\n"
     ]
    }
   ],
   "source": [
    "# Grab a list of interesting tokens\n",
    "#-> Convert them to all lowercase\n",
    "interesting_tokens = [token.lower_ for token in doc if is_token_interesting(token)]\n",
    "\n",
    "# Count up the frequency of each token\n",
    "token_freq = Counter(map(str, interesting_tokens))\n",
    "\n",
    "# Print the 5 most common tokens and their frequencies\n",
    "print(token_freq.most_common(5))"
   ]
  },
  {
   "cell_type": "markdown",
   "metadata": {},
   "source": [
    "### Question 4\n",
    "Load the article text into a trained `spaCy` pipeline, and determine the 5 most frequent lemmas (converted to lower case).  Print the common lemmas with an appropriate label.  Additionally, print the lemmas with their frequencies (with appropriate labels)."
   ]
  },
  {
   "cell_type": "code",
   "execution_count": 24,
   "metadata": {},
   "outputs": [
    {
     "name": "stdout",
     "output_type": "stream",
     "text": [
      "[('car', 31), ('drive', 30), ('self', 25), ('autonomous', 13), ('vehicle', 12)]\n"
     ]
    }
   ],
   "source": [
    "# Grab a list of interesting lemmas\n",
    "#-> Again, convert them all to lowercase\n",
    "interesting_lemmas = [token.lemma_.lower() for token in doc if is_token_interesting(token)]\n",
    "\n",
    "# Count up the frequency of each lemma\n",
    "lemma_freq = Counter(map(str, interesting_lemmas))\n",
    "\n",
    "# Print the 5 most common lemmas and their frequencies\n",
    "print(lemma_freq.most_common(5))"
   ]
  },
  {
   "cell_type": "markdown",
   "metadata": {},
   "source": [
    "### Question 5\n",
    "Make a list containing the scores (using tokens) of every sentence in the article, and plot a histogram with appropriate titles and axis labels of the scores. From your histogram, what seems to be the most common range of scores (put the answer in a comment after your code)?"
   ]
  },
  {
   "cell_type": "code",
   "execution_count": 27,
   "metadata": {},
   "outputs": [],
   "source": [
    "# Function to return the token-sentence score\n",
    "#-> (number of top 5 tokens in sentence) / (number of words in sentence)\n",
    "def token_sentence_score(sentence, token_list):\n",
    "    # Define some local variables\n",
    "    num_words = 0\n",
    "    num_top5 = 0\n",
    "    \n",
    "    # For each token in the sentence\n",
    "    for token in sentence:\n",
    "        # Check if the token is a punction mark or whitespace\n",
    "        if not(token.is_space or token.is_punct):\n",
    "            # If no, increment num_words\n",
    "            num_words += 1\n",
    "\n",
    "            # Check if that word is in the top 5 list\n",
    "            if token.lower_ in token_list:\n",
    "                # If yes, increment num_top5\n",
    "                num_top5 += 1\n",
    "\n",
    "    # Divide num_top5 by num_words\n",
    "    #-> Cast one of them to a float for more precision\n",
    "    #-> Return result\n",
    "    return float(num_top5) / num_words"
   ]
  },
  {
   "cell_type": "code",
   "execution_count": 30,
   "metadata": {},
   "outputs": [],
   "source": [
    "# Grab the tokens from our top 5 list\n",
    "#-> Create an empty list\n",
    "only_tokens = list()\n",
    "\n",
    "#-> For each token, frequency combo\n",
    "for token, freq in token_freq.most_common(5):\n",
    "    # Grab only the token and append it to the list\n",
    "    only_tokens.append(token)\n",
    "\n",
    "# Create an empty list for our token scores\n",
    "token_scores = list()\n",
    "    \n",
    "# For each sentence\n",
    "for i in range(len(list(doc.sents))):\n",
    "    # Calculate the token score for that sentence\n",
    "    token_scores.append(token_sentence_score(list(doc.sents)[i], only_tokens))"
   ]
  },
  {
   "cell_type": "code",
   "execution_count": 34,
   "metadata": {},
   "outputs": [
    {
     "data": {
      "image/png": "[encoded data removed]",
      "text/plain": [
       "<Figure size 640x480 with 1 Axes>"
      ]
     },
     "metadata": {},
     "output_type": "display_data"
    }
   ],
   "source": [
    "# Generate a histogram of our token sentence scores\n",
    "#-> Define the number of bins\n",
    "NUM_BINS = 20\n",
    "\n",
    "#-> Plot the histogram\n",
    "plt.hist(token_scores, NUM_BINS, color = 'gold')\n",
    "\n",
    "#-> Add labels\n",
    "plt.xlabel('Token Sentence Scores')\n",
    "plt.ylabel('Frequency')\n",
    "plt.title('Sentence Scores Based on Tokens')\n",
    "\n",
    "#-> Display the graph\n",
    "plt.show()\n",
    "\n",
    "# Comment what seems to be the most common range\n",
    "## As expected, there seem to be the most sentences with a token score of nearly (if not exactly) zero.\n",
    "## There IS a nice group of scores above 0.05 though."
   ]
  },
  {
   "cell_type": "markdown",
   "metadata": {},
   "source": [
    "### Question 6\n",
    "Make a list containing the scores (using lemmas) of every sentence in the article, and plot a histogram with appropriate titles and axis labels of the scores.  From your histogram, what seems to be the most common range of scores (put the answer in a comment after your code)?"
   ]
  },
  {
   "cell_type": "code",
   "execution_count": null,
   "metadata": {},
   "outputs": [],
   "source": []
  },
  {
   "cell_type": "markdown",
   "metadata": {},
   "source": [
    "### Question 7\n",
    "Using the histograms from questions 5 and 6, decide a \"cutoff\" score for tokens and lemmas such that fewer than half the sentences would have a score greater than the cutoff score.  Record the scores in this Markdown cell\n",
    "\n",
    "* Cutoff Score (tokens): \n",
    "* Cutoff Score (lemmas):\n",
    "\n",
    "Feel free to change these scores as you generate your summaries.  Ideally, we're shooting for at least 6 sentences for our summary, but don't want more than 10 (these numbers are rough estimates; they depend on the length of your article)."
   ]
  },
  {
   "cell_type": "markdown",
   "metadata": {},
   "source": [
    "### Question 8\n",
    "Create a summary of the article by going through every sentence in the article and adding it to an (initially) empty list if its score (based on tokens) is greater than the cutoff score you identified in question 8.  If your loop variable is named `sent`, you may find it easier to add `sent.text.strip()` to your list of sentences.  Print the summary (I would cleanly generate the summary text by `join`ing the strings in your list together with a space (`' '.join(sentence_list)`)."
   ]
  },
  {
   "cell_type": "code",
   "execution_count": null,
   "metadata": {},
   "outputs": [],
   "source": []
  },
  {
   "cell_type": "markdown",
   "metadata": {},
   "source": [
    "### Question 9\n",
    "Print the polarity score of your summary you generated with the token scores (with an appropriate label). Additionally, print the number of sentences in the summarized article."
   ]
  },
  {
   "cell_type": "code",
   "execution_count": null,
   "metadata": {},
   "outputs": [],
   "source": []
  },
  {
   "cell_type": "markdown",
   "metadata": {},
   "source": [
    "### Question 10\n",
    "Create a summary of the article by going through every sentence in the article and adding it to an (initially) empty list if its score (based on lemmas) is greater than the cutoff score you identified in question 8.  If your loop variable is named `sent`, you may find it easier to add `sent.text.strip()` to your list of sentences.  Print the summary (I would cleanly generate the summary text by `join`ing the strings in your list together with a space (`' '.join(sentence_list)`)."
   ]
  },
  {
   "cell_type": "code",
   "execution_count": null,
   "metadata": {},
   "outputs": [],
   "source": []
  },
  {
   "cell_type": "markdown",
   "metadata": {},
   "source": [
    "### Question 11\n",
    "Print the polarity score of your summary you generated with the lemma scores (with an appropriate label). Additionally, print the number of sentences in the summarized article."
   ]
  },
  {
   "cell_type": "code",
   "execution_count": null,
   "metadata": {},
   "outputs": [],
   "source": []
  },
  {
   "cell_type": "markdown",
   "metadata": {},
   "source": [
    "### Question 12\n",
    "Compare your polarity scores of your summaries to the polarity scores of the initial article.  Is there a difference?  Why do you think that may or may not be?.  Answer in this Markdown cell.  "
   ]
  },
  {
   "cell_type": "markdown",
   "metadata": {},
   "source": [
    "### Question 13\n",
    "Based on your reading of the original article, which summary do you think is better (if there's a difference).  Why do you think this might be?"
   ]
  }
 ],
 "metadata": {
  "kernelspec": {
   "display_name": "Python 3 (ipykernel)",
   "language": "python",
   "name": "python3"
  },
  "language_info": {
   "codemirror_mode": {
    "name": "ipython",
    "version": 3
   },
   "file_extension": ".py",
   "mimetype": "text/x-python",
   "name": "python",
   "nbconvert_exporter": "python",
   "pygments_lexer": "ipython3",
   "version": "3.11.8"
  }
 },
 "nbformat": 4,
 "nbformat_minor": 4
}
